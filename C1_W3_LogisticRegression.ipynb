{
  "nbformat": 4,
  "nbformat_minor": 0,
  "metadata": {
    "colab": {
      "provenance": []
    },
    "kernelspec": {
      "name": "python3",
      "display_name": "Python 3"
    },
    "language_info": {
      "name": "python"
    }
  },
  "cells": [
    {
      "cell_type": "markdown",
      "source": [
        "Exercise 1"
      ],
      "metadata": {
        "id": "2LJadhq-gfZd"
      }
    },
    {
      "cell_type": "markdown",
      "source": [
        "Suppose that you are the administrator of a university department and you want to determine each applicant’s chance of admission based on their results on two exams.\n",
        "\n",
        "You have historical data from previous applicants that you can use as a training set for logistic regression.\n",
        "For each training example, you have the applicant’s scores on two exams and the admissions decision.\n",
        "Your task is to build a classification model that estimates an applicant’s probability of admission based on the scores from those two exams."
      ],
      "metadata": {
        "id": "TkCQ3Qe5W6SV"
      }
    },
    {
      "cell_type": "code",
      "execution_count": 1,
      "metadata": {
        "id": "-wUvs-3IWNQl"
      },
      "outputs": [],
      "source": [
        "import numpy as np\n",
        "import matplotlib.pyplot as plt\n",
        "from utils import *\n",
        "import copy\n",
        "import math\n",
        "\n",
        "%matplotlib inline"
      ]
    },
    {
      "cell_type": "code",
      "source": [
        "X_train, y_train = load_data(\"ex2data1.txt\")"
      ],
      "metadata": {
        "id": "-i4Uz8MIWjhE"
      },
      "execution_count": 6,
      "outputs": []
    },
    {
      "cell_type": "code",
      "source": [
        "print(\"First five elements in X_train are:\\n\", X_train[:5])\n",
        "print(\"Type of X_train:\",type(X_train))"
      ],
      "metadata": {
        "colab": {
          "base_uri": "https://localhost:8080/"
        },
        "id": "pQT0tql2W4Cs",
        "outputId": "add9e553-9052-40b4-ad91-76d6a73053fa"
      },
      "execution_count": 7,
      "outputs": [
        {
          "output_type": "stream",
          "name": "stdout",
          "text": [
            "First five elements in X_train are:\n",
            " [[34.62365962 78.02469282]\n",
            " [30.28671077 43.89499752]\n",
            " [35.84740877 72.90219803]\n",
            " [60.18259939 86.3085521 ]\n",
            " [79.03273605 75.34437644]]\n",
            "Type of X_train: <class 'numpy.ndarray'>\n"
          ]
        }
      ]
    },
    {
      "cell_type": "code",
      "source": [
        "print ('The shape of X_train is: ' + str(X_train.shape))\n",
        "print ('The shape of y_train is: ' + str(y_train.shape))\n",
        "print ('We have m = %d training examples' % (len(y_train)))"
      ],
      "metadata": {
        "colab": {
          "base_uri": "https://localhost:8080/"
        },
        "id": "yGAr0dL-XCzd",
        "outputId": "c8200654-166c-4e82-aec4-60c14132e2be"
      },
      "execution_count": 8,
      "outputs": [
        {
          "output_type": "stream",
          "name": "stdout",
          "text": [
            "The shape of X_train is: (100, 2)\n",
            "The shape of y_train is: (100,)\n",
            "We have m = 100 training examples\n"
          ]
        }
      ]
    },
    {
      "cell_type": "code",
      "source": [
        "plot_data(X_train, y_train[:], pos_label=\"Admitted\", neg_label=\"Not admitted\")\n",
        "\n",
        "plt.xlabel('Exam 1 score')\n",
        "plt.ylabel('Exam 2 score')\n",
        "plt.legend(loc ='upper right')\n",
        "plt.show()"
      ],
      "metadata": {
        "colab": {
          "base_uri": "https://localhost:8080/",
          "height": 449
        },
        "id": "5IKoamcHXGe8",
        "outputId": "1eaf303b-273f-4d47-f919-b026923d8a02"
      },
      "execution_count": 9,
      "outputs": [
        {
          "output_type": "display_data",
          "data": {
            "text/plain": [
              "<Figure size 640x480 with 1 Axes>"
            ],
            "image/png": "[encoded data removed]"
          },
          "metadata": {}
        }
      ]
    },
    {
      "cell_type": "code",
      "source": [
        "#sigmoid function\n",
        "import numpy as np\n",
        "def sigmoid(z):\n",
        "   g = 1/(1+np.exp(-z))\n",
        "   return g"
      ],
      "metadata": {
        "id": "Ht8BaoEpXqxJ"
      },
      "execution_count": 10,
      "outputs": []
    },
    {
      "cell_type": "code",
      "source": [
        "value =0\n",
        "print(sigmoid(value))\n",
        "print(f\"signmoid value({value})={sigmoid(value)}\")"
      ],
      "metadata": {
        "colab": {
          "base_uri": "https://localhost:8080/"
        },
        "id": "reb-lrMJX7xA",
        "outputId": "59319959-df5c-4155-8324-193e3fd2fce1"
      },
      "execution_count": 12,
      "outputs": [
        {
          "output_type": "stream",
          "name": "stdout",
          "text": [
            "0.5\n",
            "signmoid value(0)=0.5\n"
          ]
        }
      ]
    },
    {
      "cell_type": "code",
      "source": [
        "#Compute cost\n",
        "\n",
        "import numpy as np\n",
        "def compute_cost(X,y,w,b,*argv):\n",
        "  m,n =X.shape\n",
        "  total_cost =0\n",
        "  for i in range(m):\n",
        "    f_wb = np.dot(w ,X[i]) +b\n",
        "    z = sigmoid(f_wb)\n",
        "    loss = (-y[i] * np.log(z)) -(1-y[i]) * np.log(1-z)\n",
        "\n",
        "    total_cost +=loss\n",
        "  total_cost = total_cost/m\n",
        "  return total_cost\n",
        "\n"
      ],
      "metadata": {
        "id": "IY5RA2-CYLvR"
      },
      "execution_count": 29,
      "outputs": []
    },
    {
      "cell_type": "code",
      "source": [
        "m, n = X_train.shape\n",
        "import numpy as np\n",
        "\n",
        "# Compute and display cost with w and b initialized to zeros\n",
        "initial_w = np.zeros(n)\n",
        "initial_b = 0.\n",
        "\n",
        "cost = compute_cost(X_train, y_train, initial_w, initial_b)\n",
        "print('Cost at initial w and b (zeros): {:.3f}'.format(float(cost)))"
      ],
      "metadata": {
        "colab": {
          "base_uri": "https://localhost:8080/"
        },
        "id": "6aSnCWUXZG4S",
        "outputId": "8193c572-3da4-4467-8a33-18e3b8aa964b"
      },
      "execution_count": 30,
      "outputs": [
        {
          "output_type": "stream",
          "name": "stdout",
          "text": [
            "Cost at initial w and b (zeros): 0.693\n"
          ]
        }
      ]
    },
    {
      "cell_type": "code",
      "source": [
        "def compute_cost_test(compute_cost):\n",
        "    # Dummy test data for validation\n",
        "    X_test = np.array([[1, 2], [3, 4], [5, 6]])  # 3 samples, 2 features\n",
        "    y_test = np.array([0, 1, 0])  # Labels for the test set\n",
        "    w_test = np.array([0.2, 0.3])  # Weights\n",
        "    b_test = 0.5  # Bias\n",
        "\n",
        "    # Compute cost using the test data\n",
        "    cost = compute_cost(X_test, y_test, w_test, b_test)\n",
        "\n",
        "    # Simple check, adjust based on expected results\n",
        "    assert cost >= 0, f\"Test failed! Cost should be non-negative, but got {cost}\"\n",
        "    print('all test passed')"
      ],
      "metadata": {
        "id": "O6cfEKrDa443"
      },
      "execution_count": 41,
      "outputs": []
    },
    {
      "cell_type": "code",
      "source": [
        "# Compute and display cost with non-zero w and b\n",
        "test_w = np.array([0.2, 0.2])\n",
        "test_b = -24.\n",
        "cost = compute_cost(X_train, y_train, test_w, test_b)\n",
        "\n",
        "print('Cost at test w and b (non-zeros): {:.3f}'.format(cost))\n",
        "\n",
        "\n",
        "# UNIT TESTS\n",
        "compute_cost_test(compute_cost)"
      ],
      "metadata": {
        "colab": {
          "base_uri": "https://localhost:8080/"
        },
        "id": "ItnJGE3OaYWH",
        "outputId": "30ac6a5c-0154-47ce-d5d5-ac9c75f50692"
      },
      "execution_count": 42,
      "outputs": [
        {
          "output_type": "stream",
          "name": "stdout",
          "text": [
            "Cost at test w and b (non-zeros): 0.218\n",
            "all test passed\n"
          ]
        }
      ]
    },
    {
      "cell_type": "code",
      "source": [
        "# UNQ_C3\n",
        "# GRADED FUNCTION: compute_gradient\n",
        "import numpy as np\n",
        "def compute_gradient(X, y, w, b, *argv):\n",
        "    \"\"\"\n",
        "    Computes the gradient for logistic regression\n",
        "\n",
        "    Args:\n",
        "      X : (ndarray Shape (m,n)) data, m examples by n features\n",
        "      y : (ndarray Shape (m,))  target value\n",
        "      w : (ndarray Shape (n,))  values of parameters of the model\n",
        "      b : (scalar)              value of bias parameter of the model\n",
        "      *argv : unused, for compatibility with regularized version below\n",
        "    Returns\n",
        "      dj_dw : (ndarray Shape (n,)) The gradient of the cost w.r.t. the parameters w.\n",
        "      dj_db : (scalar)             The gradient of the cost w.r.t. the parameter b.\n",
        "    \"\"\"\n",
        "    m, n = X.shape\n",
        "    dj_dw = np.zeros(w.shape)\n",
        "    dj_db = 0.\n",
        "\n",
        "    ### START CODE HERE ###\n",
        "    for i in range(m):\n",
        "        z_wb =0\n",
        "        z_cal = np.dot(w,X[i])+b\n",
        "        z_cal =sigmoid(z_cal)\n",
        "        err = z_cal -y[i]\n",
        "        dj_db += err\n",
        "\n",
        "\n",
        "        for j in range(n):\n",
        "            dj_dw[j] += err * X[i][j]\n",
        "\n",
        "    dj_dw = dj_dw /m\n",
        "    dj_db =  dj_db/m\n",
        "    ### END CODE HERE ###\n",
        "\n",
        "\n",
        "    return dj_db, dj_dw"
      ],
      "metadata": {
        "id": "rCHBpCtVbnSY"
      },
      "execution_count": 44,
      "outputs": []
    },
    {
      "cell_type": "code",
      "source": [
        "# Compute and display gradient with w and b initialized to zeros\n",
        "initial_w = np.zeros(n)\n",
        "initial_b = 0.\n",
        "\n",
        "dj_db, dj_dw = compute_gradient(X_train, y_train, initial_w, initial_b)\n",
        "print(f'dj_db at initial w and b (zeros):{dj_db}' )\n",
        "print(f'dj_dw at initial w and b (zeros):{dj_dw.tolist()}' )"
      ],
      "metadata": {
        "colab": {
          "base_uri": "https://localhost:8080/"
        },
        "id": "2uT7M-vSbiJJ",
        "outputId": "ff50b750-1c51-4b46-8a86-2dd6b8b4bcaa"
      },
      "execution_count": 45,
      "outputs": [
        {
          "output_type": "stream",
          "name": "stdout",
          "text": [
            "dj_db at initial w and b (zeros):-0.1\n",
            "dj_dw at initial w and b (zeros):[-12.00921658929115, -11.262842205513591]\n"
          ]
        }
      ]
    },
    {
      "cell_type": "code",
      "source": [
        "# Compute and display cost and gradient with non-zero w and b\n",
        "test_w = np.array([ 0.2, -0.5])\n",
        "test_b = -24\n",
        "dj_db, dj_dw  = compute_gradient(X_train, y_train, test_w, test_b)\n",
        "\n",
        "print('dj_db at test w and b:', dj_db)\n",
        "print('dj_dw at test w and b:', dj_dw.tolist())\n",
        "\n",
        "# UNIT TESTS\n",
        "def compute_gradient_test(compute_gradient):\n",
        "    # Dummy test data for validation\n",
        "    X_test = np.array([[1, 2], [3, 4], [5, 6]])  # 3 samples, 2 features\n",
        "    y_test = np.array([0, 1, 0])  # Labels for the test set\n",
        "    w_test = np.array([0.2, 0.3])  # Weights\n",
        "    b_test = 0.5  # Bias\n",
        "\n",
        "    # Compute gradients using the test data\n",
        "    dj_db, dj_dw = compute_gradient(X_test, y_test, w_test, b_test)\n",
        "\n",
        "    # Simple check for gradients being finite numbers\n",
        "    assert np.isfinite(dj_db).all(), f\"Test failed! dj_db contains non-finite values.\"\n",
        "    assert np.isfinite(dj_dw).all(), f\"Test failed! dj_dw contains non-finite values.\"\n",
        "\n",
        "    print(f\"All tests passed! dj_db: {dj_db}, dj_dw: {dj_dw}\")\n",
        "compute_gradient_test(compute_gradient)"
      ],
      "metadata": {
        "colab": {
          "base_uri": "https://localhost:8080/"
        },
        "id": "jgifSkCSbw0z",
        "outputId": "30212545-00d4-4b7f-9068-317630211998"
      },
      "execution_count": 47,
      "outputs": [
        {
          "output_type": "stream",
          "name": "stdout",
          "text": [
            "dj_db at test w and b: -0.5999999999991071\n",
            "dj_dw at test w and b: [-44.831353617873795, -44.37384124953978]\n",
            "All tests passed! dj_db: 0.5530469442516888, dj_dw: [1.77820338 2.33125033]\n"
          ]
        }
      ]
    },
    {
      "cell_type": "code",
      "source": [
        "def gradient_descent(X, y, w_in, b_in, cost_function, gradient_function, alpha, num_iters, lambda_):\n",
        "    \"\"\"\n",
        "    Performs batch gradient descent to learn theta. Updates theta by taking\n",
        "    num_iters gradient steps with learning rate alpha\n",
        "\n",
        "    Args:\n",
        "      X :    (ndarray Shape (m, n) data, m examples by n features\n",
        "      y :    (ndarray Shape (m,))  target value\n",
        "      w_in : (ndarray Shape (n,))  Initial values of parameters of the model\n",
        "      b_in : (scalar)              Initial value of parameter of the model\n",
        "      cost_function :              function to compute cost\n",
        "      gradient_function :          function to compute gradient\n",
        "      alpha : (float)              Learning rate\n",
        "      num_iters : (int)            number of iterations to run gradient descent\n",
        "      lambda_ : (scalar, float)    regularization constant\n",
        "\n",
        "    Returns:\n",
        "      w : (ndarray Shape (n,)) Updated values of parameters of the model after\n",
        "          running gradient descent\n",
        "      b : (scalar)                Updated value of parameter of the model after\n",
        "          running gradient descent\n",
        "    \"\"\"\n",
        "\n",
        "    # number of training examples\n",
        "    m = len(X)\n",
        "\n",
        "    # An array to store cost J and w's at each iteration primarily for graphing later\n",
        "    J_history = []\n",
        "    w_history = []\n",
        "\n",
        "    for i in range(num_iters):\n",
        "\n",
        "        # Calculate the gradient and update the parameters\n",
        "        dj_db, dj_dw = gradient_function(X, y, w_in, b_in, lambda_)\n",
        "\n",
        "        # Update Parameters using w, b, alpha and gradient\n",
        "        w_in = w_in - alpha * dj_dw\n",
        "        b_in = b_in - alpha * dj_db\n",
        "\n",
        "        # Save cost J at each iteration\n",
        "        if i<100000:      # prevent resource exhaustion\n",
        "            cost =  cost_function(X, y, w_in, b_in, lambda_)\n",
        "            J_history.append(cost)\n",
        "\n",
        "        # Print cost every at intervals 10 times or as many iterations if < 10\n",
        "        if i% math.ceil(num_iters/10) == 0 or i == (num_iters-1):\n",
        "            w_history.append(w_in)\n",
        "            print(f\"Iteration {i:4}: Cost {float(J_history[-1]):8.2f}   \")\n",
        "\n",
        "    return w_in, b_in, J_history, w_history #return w and J,w history for graphing"
      ],
      "metadata": {
        "id": "LViWcK7WcFWd"
      },
      "execution_count": 48,
      "outputs": []
    },
    {
      "cell_type": "code",
      "source": [
        "np.random.seed(1)\n",
        "initial_w = 0.01 * (np.random.rand(2) - 0.5)\n",
        "initial_b = -8\n",
        "\n",
        "# Some gradient descent settings\n",
        "iterations = 10000\n",
        "alpha = 0.001\n",
        "\n",
        "w,b, J_history,_ = gradient_descent(X_train ,y_train, initial_w, initial_b,\n",
        "                                   compute_cost, compute_gradient, alpha, iterations, 0)"
      ],
      "metadata": {
        "colab": {
          "base_uri": "https://localhost:8080/"
        },
        "id": "lBX35CDocN3f",
        "outputId": "4fd604ee-e449-4b7e-8588-432463840fb5"
      },
      "execution_count": 49,
      "outputs": [
        {
          "output_type": "stream",
          "name": "stdout",
          "text": [
            "Iteration    0: Cost     0.96   \n",
            "Iteration 1000: Cost     0.31   \n",
            "Iteration 2000: Cost     0.30   \n",
            "Iteration 3000: Cost     0.30   \n",
            "Iteration 4000: Cost     0.30   \n",
            "Iteration 5000: Cost     0.30   \n",
            "Iteration 6000: Cost     0.30   \n",
            "Iteration 7000: Cost     0.30   \n",
            "Iteration 8000: Cost     0.30   \n",
            "Iteration 9000: Cost     0.30   \n",
            "Iteration 9999: Cost     0.30   \n"
          ]
        }
      ]
    },
    {
      "cell_type": "code",
      "source": [
        "plot_decision_boundary(w,b,X_train, y_train)\n",
        "plt.ylabel('Exam 2 score')\n",
        "plt.xlabel('Exam 2 score')\n",
        "plt.legend(loc ='upper right')\n",
        "plt.show()"
      ],
      "metadata": {
        "colab": {
          "base_uri": "https://localhost:8080/",
          "height": 449
        },
        "id": "k-1ZjRBFcS0H",
        "outputId": "8266c083-a004-4c54-a0ab-fada3f76b86a"
      },
      "execution_count": 50,
      "outputs": [
        {
          "output_type": "display_data",
          "data": {
            "text/plain": [
              "<Figure size 640x480 with 1 Axes>"
            ],
            "image/png": "[encoded data removed]"
          },
          "metadata": {}
        }
      ]
    },
    {
      "cell_type": "code",
      "source": [
        "def predict(X, w, b):\n",
        "    \"\"\"\n",
        "    Predict whether the label is 0 or 1 using learned logistic\n",
        "    regression parameters w\n",
        "\n",
        "    Args:\n",
        "      X : (ndarray Shape (m,n)) data, m examples by n features\n",
        "      w : (ndarray Shape (n,))  values of parameters of the model\n",
        "      b : (scalar)              value of bias parameter of the model\n",
        "\n",
        "    Returns:\n",
        "      p : (ndarray (m,)) The predictions for X using a threshold at 0.5\n",
        "    \"\"\"\n",
        "    # number of training examples\n",
        "    m, n = X.shape\n",
        "    p = np.zeros(m)\n",
        "\n",
        "    ### START CODE HERE ###\n",
        "    # Loop over each example\n",
        "    for i in range(m):\n",
        "        z_wb = np.dot(w,X[i])+ b\n",
        "        f_wb = sigmoid(z_wb)\n",
        "        p[i] = 1 if f_wb >=0.5 else 0\n",
        "\n",
        "\n",
        "    ### END CODE HERE ###\n",
        "    return p"
      ],
      "metadata": {
        "id": "PTIg57hTcpBb"
      },
      "execution_count": 51,
      "outputs": []
    },
    {
      "cell_type": "code",
      "source": [
        "# Test your predict code\n",
        "np.random.seed(1)\n",
        "tmp_w = np.random.randn(2) #two elements\n",
        "tmp_b = 0.3\n",
        "tmp_X = np.random.randn(4, 2) - 0.5 # generate 4x2 matrix\n",
        "\n",
        "tmp_p = predict(tmp_X, tmp_w, tmp_b)\n",
        "print(f'Output of predict: shape {tmp_p.shape}, value {tmp_p}')\n",
        "\n",
        "# UNIT TESTS\n",
        "def predict_test(predict):\n",
        "    # Test data\n",
        "    X_test = np.array([[0.1, 0.2], [0.3, 0.4], [0.5, 0.6], [0.7, 0.8]])\n",
        "    w_test = np.array([0.2, -0.5])  # Some test weights\n",
        "    b_test = 0.1  # Some test bias\n",
        "\n",
        "    # Expected outcome should be based on computed sigmoid values\n",
        "    p_test = predict(X_test, w_test, b_test)\n",
        "\n",
        "    # Check if the output is a numpy array of shape (4,) and of integers (0 or 1)\n",
        "    assert p_test.shape == (4,), f\"Test failed! Expected shape (4,) but got {p_test.shape}\"\n",
        "    assert np.all(np.isin(p_test, [0, 1])), f\"Test failed! Expected binary predictions, got {p_test}\"\n",
        "\n",
        "    print(f\"All tests passed! Predicted values: {p_test}\")\n",
        "\n",
        "predict_test(predict)"
      ],
      "metadata": {
        "colab": {
          "base_uri": "https://localhost:8080/"
        },
        "id": "_ppW_NSGcury",
        "outputId": "bb8d6bd4-453b-4c25-d2ee-63b070856956"
      },
      "execution_count": 52,
      "outputs": [
        {
          "output_type": "stream",
          "name": "stdout",
          "text": [
            "Output of predict: shape (4,), value [0. 1. 1. 1.]\n",
            "All tests passed! Predicted values: [1. 0. 0. 0.]\n"
          ]
        }
      ]
    },
    {
      "cell_type": "code",
      "source": [
        "p = predict (X_train, w,b)\n",
        "print('Train Accuracy: %f'%(np.mean(p == y_train) * 100))"
      ],
      "metadata": {
        "colab": {
          "base_uri": "https://localhost:8080/"
        },
        "id": "zreodT4TdIwU",
        "outputId": "320c5929-8e48-4f8f-ffea-d4ccf352dd9d"
      },
      "execution_count": 54,
      "outputs": [
        {
          "output_type": "stream",
          "name": "stdout",
          "text": [
            "Train Accuracy: 92.000000\n"
          ]
        }
      ]
    },
    {
      "cell_type": "markdown",
      "source": [
        "#Exercise 2"
      ],
      "metadata": {
        "id": "EhpuzKiegakF"
      }
    },
    {
      "cell_type": "code",
      "source": [
        "# load dataset\n",
        "X_train, y_train = load_data(\"ex2data2.txt\")"
      ],
      "metadata": {
        "id": "UDx8-91gd7xn"
      },
      "execution_count": 55,
      "outputs": []
    },
    {
      "cell_type": "code",
      "source": [
        "# print X_train\n",
        "print(\"X_train:\", X_train[:5])\n",
        "print(\"Type of X_train:\",type(X_train))\n",
        "\n",
        "# print y_train\n",
        "print(\"y_train:\", y_train[:5])\n",
        "print(\"Type of y_train:\",type(y_train))\n"
      ],
      "metadata": {
        "id": "p_Lv66HPd-XX"
      },
      "execution_count": null,
      "outputs": []
    },
    {
      "cell_type": "code",
      "source": [
        "print ('The shape of X_train is: ' + str(X_train.shape))\n",
        "print ('The shape of y_train is: ' + str(y_train.shape))\n",
        "print ('We have m = %d training examples' % (len(y_train)))\n"
      ],
      "metadata": {
        "colab": {
          "base_uri": "https://localhost:8080/"
        },
        "id": "KLZa_z6CeACn",
        "outputId": "caaf3247-d0f3-4dd0-a9e8-e250737e751b"
      },
      "execution_count": 56,
      "outputs": [
        {
          "output_type": "stream",
          "name": "stdout",
          "text": [
            "The shape of X_train is: (118, 2)\n",
            "The shape of y_train is: (118,)\n",
            "We have m = 118 training examples\n"
          ]
        }
      ]
    },
    {
      "cell_type": "code",
      "source": [
        "# Plot examples\n",
        "plot_data(X_train, y_train[:], pos_label=\"Accepted\", neg_label=\"Rejected\")\n",
        "\n",
        "# Set the y-axis label\n",
        "plt.ylabel('Microchip Test 2')\n",
        "# Set the x-axis label\n",
        "plt.xlabel('Microchip Test 1')\n",
        "plt.legend(loc=\"upper right\")\n",
        "plt.show()"
      ],
      "metadata": {
        "colab": {
          "base_uri": "https://localhost:8080/",
          "height": 449
        },
        "id": "VkatcbTceCPt",
        "outputId": "8b1568d3-944b-4c56-d233-af4971c31a0b"
      },
      "execution_count": 57,
      "outputs": [
        {
          "output_type": "display_data",
          "data": {
            "text/plain": [
              "<Figure size 640x480 with 1 Axes>"
            ],
            "image/png": "[encoded data removed]"
          },
          "metadata": {}
        }
      ]
    },
    {
      "cell_type": "code",
      "source": [
        "print(\"Original shape of data:\", X_train.shape)\n",
        "\n",
        "mapped_X =  map_feature(X_train[:, 0], X_train[:, 1]) # a function of utils\n",
        "print(\"Shape after feature mapping:\", mapped_X.shape)"
      ],
      "metadata": {
        "colab": {
          "base_uri": "https://localhost:8080/"
        },
        "id": "z_fuQOV_eEdk",
        "outputId": "bdadc59f-60c7-45bf-c9ed-79f954db44da"
      },
      "execution_count": 58,
      "outputs": [
        {
          "output_type": "stream",
          "name": "stdout",
          "text": [
            "Original shape of data: (118, 2)\n",
            "Shape after feature mapping: (118, 27)\n"
          ]
        }
      ]
    },
    {
      "cell_type": "code",
      "source": [
        "print(\"X_train[0]:\", X_train[0])\n",
        "print(\"mapped X_train[0]:\", mapped_X[0])"
      ],
      "metadata": {
        "colab": {
          "base_uri": "https://localhost:8080/"
        },
        "id": "kprFNK8aeOD3",
        "outputId": "e537d9a5-11b3-4d48-9432-828fd8caee9b"
      },
      "execution_count": 59,
      "outputs": [
        {
          "output_type": "stream",
          "name": "stdout",
          "text": [
            "X_train[0]: [0.051267 0.69956 ]\n",
            "mapped X_train[0]: [5.12670000e-02 6.99560000e-01 2.62830529e-03 3.58643425e-02\n",
            " 4.89384194e-01 1.34745327e-04 1.83865725e-03 2.50892595e-02\n",
            " 3.42353606e-01 6.90798869e-06 9.42624411e-05 1.28625106e-03\n",
            " 1.75514423e-02 2.39496889e-01 3.54151856e-07 4.83255257e-06\n",
            " 6.59422333e-05 8.99809795e-04 1.22782870e-02 1.67542444e-01\n",
            " 1.81563032e-08 2.47750473e-07 3.38066048e-06 4.61305487e-05\n",
            " 6.29470940e-04 8.58939846e-03 1.17205992e-01]\n"
          ]
        }
      ]
    },
    {
      "cell_type": "code",
      "source": [
        "# UNQ_C5\n",
        "def compute_cost_reg(X, y, w, b, lambda_ = 1):\n",
        "    \"\"\"\n",
        "    Computes the cost over all examples\n",
        "    Args:\n",
        "      X : (ndarray Shape (m,n)) data, m examples by n features\n",
        "      y : (ndarray Shape (m,))  target value\n",
        "      w : (ndarray Shape (n,))  values of parameters of the model\n",
        "      b : (scalar)              value of bias parameter of the model\n",
        "      lambda_ : (scalar, float) Controls amount of regularization\n",
        "    Returns:\n",
        "      total_cost : (scalar)     cost\n",
        "    \"\"\"\n",
        "\n",
        "    m, n = X.shape\n",
        "\n",
        "    # Calls the compute_cost function that you implemented above\n",
        "    cost_without_reg = compute_cost(X, y, w, b)\n",
        "\n",
        "    # You need to calculate this value\n",
        "    reg_cost = 0.\n",
        "\n",
        "    ### START CODE HERE ###\n",
        "    reg_cost = (lambda_ / (2 * m)) * np.sum(np.square(w))\n",
        "\n",
        "\n",
        "    ### END CODE HERE ###\n",
        "\n",
        "    # Add the regularization cost to get the total cost\n",
        "    total_cost = cost_without_reg + reg_cost\n",
        "\n",
        "    return total_cost"
      ],
      "metadata": {
        "id": "gd6S6jrLee9k"
      },
      "execution_count": 60,
      "outputs": []
    },
    {
      "cell_type": "code",
      "source": [
        "X_mapped = map_feature(X_train[:, 0], X_train[:, 1])\n",
        "np.random.seed(1)\n",
        "initial_w = np.random.rand(X_mapped.shape[1]) - 0.5\n",
        "initial_b = 0.5\n",
        "lambda_ = 0.5\n",
        "cost = compute_cost_reg(X_mapped, y_train, initial_w, initial_b, lambda_)\n",
        "\n",
        "print(\"Regularized cost :\", cost)\n",
        "\n"
      ],
      "metadata": {
        "colab": {
          "base_uri": "https://localhost:8080/"
        },
        "id": "XT4ntavoekEd",
        "outputId": "7aa7d688-cc22-4a2b-b77d-ffb6310f6404"
      },
      "execution_count": 63,
      "outputs": [
        {
          "output_type": "stream",
          "name": "stdout",
          "text": [
            "Regularized cost : 0.6618252552483948\n"
          ]
        }
      ]
    },
    {
      "cell_type": "code",
      "source": [
        "def compute_gradient_reg(X,y,w,b,lamda_ =1):\n",
        "    m,n = X.shape\n",
        "\n",
        "    dj_db = 0.\n",
        "    dj_dw = np.zeros(w.shape)\n",
        "\n",
        "    for i in range(m):\n",
        "        z_i = sigmoid(np.dot(X[i], w) + b)\n",
        "        error = z_i - y[i]\n",
        "        dj_db += error\n",
        "        dj_dw += error * X[i]\n",
        "\n",
        "    dj_db /= m\n",
        "    dj_dw = dj_dw / m + (lambda_ / m) * w  # Add regularization term to weights\n",
        "\n",
        "    return dj_db, dj_dw"
      ],
      "metadata": {
        "id": "WPNkhn41fhCm"
      },
      "execution_count": 68,
      "outputs": []
    },
    {
      "cell_type": "code",
      "source": [
        "X_mapped = map_feature(X_train[:, 0], X_train[:, 1])\n",
        "np.random.seed(1)\n",
        "initial_w  = np.random.rand(X_mapped.shape[1]) - 0.5\n",
        "initial_b = 0.5\n",
        "\n",
        "lambda_ = 0.5\n",
        "dj_db, dj_dw = compute_gradient_reg(X_mapped, y_train, initial_w, initial_b, lambda_)\n",
        "\n",
        "print(f\"dj_db: {dj_db}\", )\n",
        "print(f\"First few elements of regularized dj_dw:\\n {dj_dw[:4].tolist()}\", )\n",
        "\n"
      ],
      "metadata": {
        "colab": {
          "base_uri": "https://localhost:8080/"
        },
        "id": "pPpBwLzqhr6M",
        "outputId": "8dbfa9ce-0521-4a05-b45a-67c8abc25736"
      },
      "execution_count": 69,
      "outputs": [
        {
          "output_type": "stream",
          "name": "stdout",
          "text": [
            "dj_db: 0.07138288792343662\n",
            "First few elements of regularized dj_dw:\n",
            " [-0.010386028450548701, 0.011409852883280122, 0.0536273463274574, 0.003140278267313462]\n"
          ]
        }
      ]
    },
    {
      "cell_type": "code",
      "source": [
        "np.random.seed(1)\n",
        "initial_w = np.random.rand(X_mapped.shape[1]) -0.5\n",
        "initial_b = 1\n",
        "\n",
        "lamda_ = 0.01\n",
        "iter =10000\n",
        "alpha = 0.01\n",
        "w,b, J_history, _ = gradient_descent (X_mapped, y_train, initial_w,initial_b,compute_cost_reg,compute_gradient_reg,alpha,iter,lamda_)"
      ],
      "metadata": {
        "colab": {
          "base_uri": "https://localhost:8080/"
        },
        "id": "jYsj3G_gir99",
        "outputId": "3f74aae4-3fc6-4f69-8d3a-894eaf1ca518"
      },
      "execution_count": 70,
      "outputs": [
        {
          "output_type": "stream",
          "name": "stdout",
          "text": [
            "Iteration    0: Cost     0.72   \n",
            "Iteration 1000: Cost     0.59   \n",
            "Iteration 2000: Cost     0.56   \n",
            "Iteration 3000: Cost     0.54   \n",
            "Iteration 4000: Cost     0.52   \n",
            "Iteration 5000: Cost     0.51   \n",
            "Iteration 6000: Cost     0.50   \n",
            "Iteration 7000: Cost     0.49   \n",
            "Iteration 8000: Cost     0.48   \n",
            "Iteration 9000: Cost     0.47   \n",
            "Iteration 9999: Cost     0.47   \n"
          ]
        }
      ]
    },
    {
      "cell_type": "code",
      "source": [
        "plot_decision_boundary(w, b, X_mapped, y_train)\n",
        "# Set the y-axis label\n",
        "plt.ylabel('Microchip Test 2')\n",
        "# Set the x-axis label\n",
        "plt.xlabel('Microchip Test 1')\n",
        "plt.legend(loc=\"upper right\")\n",
        "plt.show()"
      ],
      "metadata": {
        "colab": {
          "base_uri": "https://localhost:8080/",
          "height": 455
        },
        "id": "7_Rzv3FCj_W-",
        "outputId": "6dcdd6e3-f7ac-48b2-eff8-5ecd8c131367"
      },
      "execution_count": 71,
      "outputs": [
        {
          "output_type": "display_data",
          "data": {
            "text/plain": [
              "<Figure size 640x480 with 1 Axes>"
            ],
            "image/png": "[encoded data removed]"
          },
          "metadata": {}
        }
      ]
    },
    {
      "cell_type": "code",
      "source": [
        "#Compute accuracy on the training set\n",
        "p = predict(X_mapped, w, b)\n",
        "\n",
        "print('Train Accuracy: %f'%(np.mean(p == y_train) * 100))\n"
      ],
      "metadata": {
        "colab": {
          "base_uri": "https://localhost:8080/"
        },
        "id": "iXI_bcQVlDgd",
        "outputId": "83ee9553-d836-4a24-9a56-7cf1fc2bbf07"
      },
      "execution_count": 73,
      "outputs": [
        {
          "output_type": "stream",
          "name": "stdout",
          "text": [
            "Train Accuracy: 83.050847\n"
          ]
        }
      ]
    }
  ]
}